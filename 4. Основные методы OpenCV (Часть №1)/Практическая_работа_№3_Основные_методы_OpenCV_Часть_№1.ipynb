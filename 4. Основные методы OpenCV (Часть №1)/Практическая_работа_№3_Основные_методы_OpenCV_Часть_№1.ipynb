{
  "nbformat": 4,
  "nbformat_minor": 0,
  "metadata": {
    "colab": {
      "provenance": [],
      "include_colab_link": true
    },
    "kernelspec": {
      "name": "python3",
      "display_name": "Python 3"
    },
    "language_info": {
      "name": "python"
    }
  },
  "cells": [
    {
      "cell_type": "markdown",
      "metadata": {
        "id": "view-in-github",
        "colab_type": "text"
      },
      "source": [
        "<a href=\"https://colab.research.google.com/github/doommodery/-image_processing_homework/blob/main/4.%20%D0%9E%D1%81%D0%BD%D0%BE%D0%B2%D0%BD%D1%8B%D0%B5%20%D0%BC%D0%B5%D1%82%D0%BE%D0%B4%D1%8B%20OpenCV%20(%D0%A7%D0%B0%D1%81%D1%82%D1%8C%20%E2%84%961)/%D0%9F%D1%80%D0%B0%D0%BA%D1%82%D0%B8%D1%87%D0%B5%D1%81%D0%BA%D0%B0%D1%8F_%D1%80%D0%B0%D0%B1%D0%BE%D1%82%D0%B0_%E2%84%963_%D0%9E%D1%81%D0%BD%D0%BE%D0%B2%D0%BD%D1%8B%D0%B5_%D0%BC%D0%B5%D1%82%D0%BE%D0%B4%D1%8B_OpenCV_%D0%A7%D0%B0%D1%81%D1%82%D1%8C_%E2%84%961.ipynb\" target=\"_parent\"><img src=\"https://colab.research.google.com/assets/colab-badge.svg\" alt=\"Open In Colab\"/></a>"
      ]
    },
    {
      "cell_type": "markdown",
      "source": [
        "# **Практическая работа №3. Основные методы OpenCV. Часть №1**"
      ],
      "metadata": {
        "id": "T9XPouO5810Q"
      }
    },
    {
      "cell_type": "markdown",
      "source": [
        "---"
      ],
      "metadata": {
        "id": "m_7WRp2k9xrC"
      }
    },
    {
      "cell_type": "markdown",
      "source": [
        "# **Тема №1. Чтение, запись и отображение**"
      ],
      "metadata": {
        "id": "hv84nx247atZ"
      }
    },
    {
      "cell_type": "markdown",
      "source": [
        "\n",
        "\n",
        "## **Задание 1:**  \n",
        "Напишите процедуру, которая:\n",
        "\n",
        "- Считывает цветное изображение в режиме `cv2.IMREAD_COLOR`.\n",
        "- Преобразует его в оттенки серого с использованием `cv2.cvtColor()`.\n",
        "- Сохраняет полученное черно-белое изображение на диск.\n",
        "- Отображает оба изображения (оригинальное цветное и преобразованное черно-белое).\n",
        "\n",
        "\n"
      ],
      "metadata": {
        "id": "6DyHwStD6i1z"
      }
    },
    {
      "cell_type": "code",
      "source": [
        "import numpy as np\n",
        "import cv2\n",
        "import matplotlib.pyplot as plt\n",
        "from google.colab.patches import cv2_imshow\n",
        "from google.colab import drive\n",
        "drive.mount('/content/drive')"
      ],
      "metadata": {
        "colab": {
          "base_uri": "https://localhost:8080/"
        },
        "id": "xMjzx2y5hFCt",
        "outputId": "a5035a37-791a-4776-e4b0-cadeda24cdd1"
      },
      "execution_count": 33,
      "outputs": [
        {
          "output_type": "stream",
          "name": "stdout",
          "text": [
            "Drive already mounted at /content/drive; to attempt to forcibly remount, call drive.mount(\"/content/drive\", force_remount=True).\n"
          ]
        }
      ]
    },
    {
      "cell_type": "code",
      "source": [
        "def process_image(input_image_path, output_image_path):\n",
        "    # Считывание цветного изображения\n",
        "    color_image = cv2.imread(input_image_path, cv2.IMREAD_COLOR)\n",
        "\n",
        "    if color_image is None:\n",
        "        print(\"Ошибка: не удалось загрузить изображение.\")\n",
        "        return\n",
        "\n",
        "    # Преобразование изображения в оттенки серого\n",
        "    grayscale_image = cv2.cvtColor(color_image, cv2.COLOR_BGR2GRAY)\n",
        "\n",
        "    # Сохранение черно-белого изображения на диск\n",
        "    cv2.imwrite(output_image_path, grayscale_image)\n",
        "\n",
        "    cv2_imshow(color_image)\n",
        "    cv2_imshow(grayscale_image)"
      ],
      "metadata": {
        "id": "CGdlsBQC6mHs"
      },
      "execution_count": 2,
      "outputs": []
    },
    {
      "cell_type": "code",
      "source": [
        "input_image_path = '/content/drive/MyDrive/Colab Notebooks/Изображения/Изображения/1.JPG'\n",
        "output_image_path = '/content/drive/MyDrive/Colab Notebooks/Изображения/Изображения/grayscale_image.jpg'\n",
        "process_image(input_image_path, output_image_path)"
      ],
      "metadata": {
        "id": "3OSdFsatjXri"
      },
      "execution_count": null,
      "outputs": []
    },
    {
      "cell_type": "markdown",
      "source": [
        "## **Задание 2:**  \n",
        "Используя режим `cv2.IMREAD_UNCHANGED`, загрузите изображение с альфа-каналом (например, PNG с прозрачностью). Затем:\n",
        "\n",
        "- Разделите изображение на каналы (B, G, R, A).\n",
        "- Создайте новое изображение, где прозрачность (альфа-канал) инвертирована (т.е. прозрачные области становятся непрозрачными и наоборот).\n",
        "- Сохраните и отобразите полученное изображение."
      ],
      "metadata": {
        "id": "RbJNrsTV6lev"
      }
    },
    {
      "cell_type": "code",
      "source": [
        "def process_alpha_image(input_image_path, output_image_path):\n",
        "    # Считывание изображения с альфа-каналом\n",
        "    image = cv2.imread(input_image_path, cv2.IMREAD_UNCHANGED)\n",
        "\n",
        "    if image is None:\n",
        "        print(\"Ошибка: не удалось загрузить изображение.\")\n",
        "        return\n",
        "\n",
        "    # Проверка наличия альфа-канала\n",
        "    if image.shape[2] < 4:\n",
        "        print(\"Ошибка: изображение не содержит альфа-канал.\")\n",
        "        return\n",
        "\n",
        "    # Разделение изображения на каналы B, G, R, A\n",
        "    b_channel, g_channel, r_channel, a_channel = cv2.split(image)\n",
        "\n",
        "    # Инвертирование альфа-канала\n",
        "    inverted_alpha = cv2.bitwise_not(a_channel)\n",
        "\n",
        "    # Объединение каналов обратно с инвертированным альфа-каналом\n",
        "    inverted_image = cv2.merge((b_channel, g_channel, r_channel, inverted_alpha))\n",
        "\n",
        "    # Сохранение изображения\n",
        "    cv2.imwrite(output_image_path, inverted_image)\n",
        "\n",
        "    cv2_imshow(image)\n",
        "    cv2_imshow(inverted_image)"
      ],
      "metadata": {
        "id": "RE0uxsSB61G3"
      },
      "execution_count": 10,
      "outputs": []
    },
    {
      "cell_type": "code",
      "source": [
        "input_image_path = '/content/drive/MyDrive/Colab Notebooks/Изображения/Изображения/image_work3.jpg'\n",
        "output_image_path = '/content/drive/MyDrive/Colab Notebooks/Изображения/Изображения/image2.jpg'\n",
        "process_alpha_image(input_image_path, output_image_path)"
      ],
      "metadata": {
        "id": "Fl2UWbDNncHG"
      },
      "execution_count": null,
      "outputs": []
    },
    {
      "cell_type": "markdown",
      "source": [
        "---"
      ],
      "metadata": {
        "id": "DYFDoI8G661L"
      }
    },
    {
      "cell_type": "markdown",
      "source": [
        "# **Тема №2. Работа с цветовыми палитрами**\n",
        "\n"
      ],
      "metadata": {
        "id": "m2OB0mwm65rM"
      }
    },
    {
      "cell_type": "markdown",
      "source": [
        "## **Задание 3:**  \n",
        "Напишите процедуру, которая:\n",
        "\n",
        "- Считывает цветное изображение.\n",
        "- Преобразует его из цветового пространства BGR в HSV с помощью `cv2.cvtColor()`.\n",
        "- Увеличивает насыщенность (канал S) в 1.5 раза, не превышая максимального значения.\n",
        "- Преобразует изображение обратно в цветовое пространство BGR.\n",
        "- Отображает оригинальное и полученное изображения рядом для сравнения."
      ],
      "metadata": {
        "id": "dTYbSFy97Hn5"
      }
    },
    {
      "cell_type": "code",
      "source": [
        "def enhance_saturation(input_image_path):\n",
        "    # Считывание цветного изображения\n",
        "    image = cv2.imread(input_image_path, cv2.IMREAD_COLOR)\n",
        "\n",
        "    if image is None:\n",
        "        print(\"Ошибка: не удалось загрузить изображение.\")\n",
        "        return\n",
        "\n",
        "    # Преобразование изображения из BGR в HSV\n",
        "    hsv_image = cv2.cvtColor(image, cv2.COLOR_BGR2HSV)\n",
        "\n",
        "    # Разделение на каналы H, S, V\n",
        "    h_channel, s_channel, v_channel = cv2.split(hsv_image)\n",
        "\n",
        "    # Увеличение насыщенности (канал S) в 1.5 раза\n",
        "    s_channel = np.clip(s_channel * 1.5, 0, 255).astype(np.uint8)\n",
        "\n",
        "    # Объединение каналов обратно в изображение HSV\n",
        "    enhanced_hsv_image = cv2.merge([h_channel, s_channel, v_channel])\n",
        "\n",
        "    # Преобразование обратно в цветовое пространство BGR\n",
        "    enhanced_bgr_image = cv2.cvtColor(enhanced_hsv_image, cv2.COLOR_HSV2BGR)\n",
        "\n",
        "    # Объединение оригинального и нового изображений для отображения рядом\n",
        "    comparison_image = np.hstack((image, enhanced_bgr_image))\n",
        "\n",
        "    cv2_imshow(comparison_image)"
      ],
      "metadata": {
        "id": "AZmfxzS37n4K"
      },
      "execution_count": 13,
      "outputs": []
    },
    {
      "cell_type": "code",
      "source": [
        "input_image_path = '/content/drive/MyDrive/Colab Notebooks/Изображения/Изображения/1.JPG'\n",
        "enhance_saturation(input_image_path)"
      ],
      "metadata": {
        "id": "sEfANcVUtYnf"
      },
      "execution_count": null,
      "outputs": []
    },
    {
      "cell_type": "markdown",
      "source": [
        "## **Задание 4:**  \n",
        "Напишите процедуру, которая:\n",
        "\n",
        "- Считывает изображение и Преобразует его в цветовое пространство YCrCb.\n",
        "- Применяет размытие к компоненте яркости Y (при помощи фильтра, см. материал предыдущих занятий).\n",
        "- Снова Преобразует изображение в цветовое пространство BGR.\n",
        "- Отображает исходное и размытое изображения."
      ],
      "metadata": {
        "id": "n_qVU9qY7ljP"
      }
    },
    {
      "cell_type": "code",
      "source": [
        "def blur_luminance(input_image_path):\n",
        "    # Считывание изображения\n",
        "    image = cv2.imread(input_image_path, cv2.IMREAD_COLOR)\n",
        "\n",
        "    if image is None:\n",
        "        print(\"Ошибка: не удалось загрузить изображение.\")\n",
        "        return\n",
        "\n",
        "    # Преобразование изображения в цветовое пространство YCrCb\n",
        "    ycrcb_image = cv2.cvtColor(image, cv2.COLOR_BGR2YCrCb)\n",
        "\n",
        "    # Разделение на каналы Y, Cr, Cb\n",
        "    y_channel, cr_channel, cb_channel = cv2.split(ycrcb_image)\n",
        "\n",
        "    # Применение размытия к каналу яркости (Y)\n",
        "    blurred_y_channel = cv2.GaussianBlur(y_channel, (15, 15), 0)\n",
        "\n",
        "    # Объединение каналов обратно в изображение YCrCb\n",
        "    blurred_ycrcb_image = cv2.merge([blurred_y_channel, cr_channel, cb_channel])\n",
        "\n",
        "    # Преобразование обратно в цветовое пространство BGR\n",
        "    blurred_bgr_image = cv2.cvtColor(blurred_ycrcb_image, cv2.COLOR_YCrCb2BGR)\n",
        "\n",
        "    # Объединение исходного и размытого изображений для сравнения\n",
        "    comparison_image = np.hstack((image, blurred_bgr_image))\n",
        "\n",
        "    cv2_imshow(comparison_image)"
      ],
      "metadata": {
        "id": "qglnUJK1-Csd"
      },
      "execution_count": 15,
      "outputs": []
    },
    {
      "cell_type": "code",
      "source": [
        "input_image_path = '/content/drive/MyDrive/Colab Notebooks/Изображения/Изображения/1.JPG'\n",
        "blur_luminance(input_image_path)"
      ],
      "metadata": {
        "id": "BmU7oCNptnUU"
      },
      "execution_count": null,
      "outputs": []
    },
    {
      "cell_type": "markdown",
      "source": [
        "---"
      ],
      "metadata": {
        "id": "x0QtIVJM7puv"
      }
    },
    {
      "cell_type": "markdown",
      "source": [
        "# **Тема №3. Слияние и усиление**"
      ],
      "metadata": {
        "id": "03BsqFEI7ubi"
      }
    },
    {
      "cell_type": "markdown",
      "source": [
        "## **Задание 5:**  \n",
        "Создайте процедуру, которая:\n",
        "\n",
        "- Считывает два изображения одинакового размера (можно подкорректировать с помощью метода `.resize()`).\n",
        "- Выполняет побитовое ИЛИ (OR) над соответствующими пикселями двух изображений.\n",
        "- Сохраняет и отображает результат операции."
      ],
      "metadata": {
        "id": "1VIrpos37y8u"
      }
    },
    {
      "cell_type": "code",
      "source": [
        "import cv2\n",
        "from google.colab.patches import cv2_imshow  # Для Google Colab\n",
        "\n",
        "def bitwise_or_images(image_path1, image_path2, output_image_path):\n",
        "    # Считывание двух изображений\n",
        "    image1 = cv2.imread(image_path1)\n",
        "    image2 = cv2.imread(image_path2)\n",
        "\n",
        "    if image1 is None or image2 is None:\n",
        "        print(\"Ошибка: не удалось загрузить одно из изображений.\")\n",
        "        return\n",
        "\n",
        "    # Проверка на одинаковый размер и изменение размера при необходимости\n",
        "    if image1.shape != image2.shape:\n",
        "        print(\"Изображения разных размеров, выполняется изменение размера второго изображения.\")\n",
        "        image2 = cv2.resize(image2, (image1.shape[1], image1.shape[0]))\n",
        "\n",
        "    # Выполнение побитового ИЛИ над соответствующими пикселями\n",
        "    result_image = cv2.bitwise_or(image1, image2)\n",
        "\n",
        "    # Сохранение результата\n",
        "    cv2.imwrite(output_image_path, result_image)\n",
        "\n",
        "    cv2_imshow(image1)\n",
        "    cv2_imshow(image2)\n",
        "    cv2_imshow(result_image)"
      ],
      "metadata": {
        "id": "CS4FFTJN740M"
      },
      "execution_count": 18,
      "outputs": []
    },
    {
      "cell_type": "code",
      "source": [
        "image_path1 = '/content/drive/MyDrive/Colab Notebooks/Изображения/Изображения/image1.jpg'  # Путь к первому изображению\n",
        "image_path2 = '/content/drive/MyDrive/Colab Notebooks/Изображения/Изображения/image2.jpg'  # Путь ко второму изображению\n",
        "output_image_path = '/content/drive/MyDrive/Colab Notebooks/Изображения/Изображения/result_or_image.jpg'  # Путь для сохранения результата\n",
        "bitwise_or_images(image_path1, image_path2, output_image_path)"
      ],
      "metadata": {
        "id": "NTe15vbcuD_R"
      },
      "execution_count": null,
      "outputs": []
    },
    {
      "cell_type": "markdown",
      "source": [
        "## **Задание 6:**  \n",
        "Реализуйте следующий алгоритм:\n",
        "\n",
        "- Считайте цветное изображение и разделите его на три канала с использованием `.split()`.\n",
        "- Примените к каждому каналу разный коэффициент гамма-коррекции (например, для R – 0.5, G – 1.0, B – 1.5).\n",
        "- Объедините каналы обратно с помощью `.merge()`.\n",
        "- Отобразите исходное и обработанное изображения.\n"
      ],
      "metadata": {
        "id": "tKs9re2N7tKI"
      }
    },
    {
      "cell_type": "code",
      "source": [
        "def adjust_gamma(channel, gamma):\n",
        "    # Создаем таблицу преобразования для гамма-коррекции\n",
        "    inv_gamma = 1.0 / gamma\n",
        "    table = np.array([(i / 255.0) ** inv_gamma * 255 for i in np.arange(256)]).astype(\"uint8\")\n",
        "\n",
        "    # Применяем гамма-коррекцию с использованием таблицы\n",
        "    return cv2.LUT(channel, table)\n",
        "\n",
        "def gamma_correction(input_image_path):\n",
        "    # Считывание цветного изображения\n",
        "    image = cv2.imread(input_image_path)\n",
        "\n",
        "    if image is None:\n",
        "        print(\"Ошибка: не удалось загрузить изображение.\")\n",
        "        return\n",
        "\n",
        "    # Разделение изображения на каналы B, G, R\n",
        "    b_channel, g_channel, r_channel = cv2.split(image)\n",
        "\n",
        "    # Применение разных коэффициентов гамма-коррекции к каждому каналу\n",
        "    corrected_b = adjust_gamma(b_channel, 1.5)  # Гамма для синего канала\n",
        "    corrected_g = adjust_gamma(g_channel, 1.0)  # Гамма для зеленого канала\n",
        "    corrected_r = adjust_gamma(r_channel, 0.5)  # Гамма для красного канала\n",
        "\n",
        "    # Объединение каналов обратно в изображение\n",
        "    corrected_image = cv2.merge([corrected_b, corrected_g, corrected_r])\n",
        "\n",
        "    # Отображение исходного и обработанного изображений рядом\n",
        "    comparison_image = np.hstack((image, corrected_image))\n",
        "\n",
        "    cv2_imshow(comparison_image)\n",
        "\n",
        "input_image_path = '/content/drive/MyDrive/Colab Notebooks/Изображения/Изображения/image1.jpg'  # Путь к изображению\n",
        "gamma_correction(input_image_path)"
      ],
      "metadata": {
        "id": "JetPU-Ux7_nF"
      },
      "execution_count": null,
      "outputs": []
    },
    {
      "cell_type": "markdown",
      "source": [
        "---"
      ],
      "metadata": {
        "id": "KX7sLnUi9ehU"
      }
    },
    {
      "cell_type": "markdown",
      "source": [
        "# **Тема №4. Работа с гистограммами в OpenCV**"
      ],
      "metadata": {
        "id": "S2HzLVln8Cmg"
      }
    },
    {
      "cell_type": "markdown",
      "source": [
        "## **Задание 7:**  \n",
        "Напишите процедуру для улучшения контрастности изображения:\n",
        "\n",
        "- Считывает изображение в оттенках серого.\n",
        "- Строит его гистограмму с использованием `cv.calcHist()`.\n",
        "- Применяет эквализацию гистограммы методом `cv2.equalizeHist()`.\n",
        "- Отображает на одном графике исходное и эквализованное изображения вместе с их гистограммами."
      ],
      "metadata": {
        "id": "KHpHjf138HSN"
      }
    },
    {
      "cell_type": "code",
      "source": [
        "import cv2\n",
        "import numpy as np\n",
        "import matplotlib.pyplot as plt\n",
        "from google.colab.patches import cv2_imshow  # Для Google Colab\n",
        "\n",
        "def enhance_contrast(image_path):\n",
        "    # Считывание изображения в оттенках серого\n",
        "    gray_image = cv2.imread(image_path, cv2.IMREAD_GRAYSCALE)\n",
        "\n",
        "    if gray_image is None:\n",
        "        print(\"Ошибка: не удалось загрузить изображение.\")\n",
        "        return\n",
        "\n",
        "    # Строительство гистограммы исходного изображения\n",
        "    original_hist = cv2.calcHist([gray_image], [0], None, [256], [0, 256])\n",
        "\n",
        "    # Применение эквализации гистограммы\n",
        "    equalized_image = cv2.equalizeHist(gray_image)\n",
        "\n",
        "    # Строительство гистограммы эквализованного изображения\n",
        "    equalized_hist = cv2.calcHist([equalized_image], [0], None, [256], [0, 256])\n",
        "\n",
        "    # Отображение изображений и их гистограмм\n",
        "    plt.figure(figsize=(12, 6))\n",
        "\n",
        "    # Исходное изображение и его гистограмма\n",
        "    plt.subplot(2, 2, 1)\n",
        "    plt.imshow(gray_image, cmap='gray')\n",
        "    plt.title('Исходное изображение')\n",
        "    plt.axis('off')\n",
        "\n",
        "    plt.subplot(2, 2, 2)\n",
        "    plt.plot(original_hist, color='black')\n",
        "    plt.title('Гистограмма исходного изображения')\n",
        "    plt.xlim([0, 256])\n",
        "\n",
        "    # Эквализованное изображение и его гистограмма\n",
        "    plt.subplot(2, 2, 3)\n",
        "    plt.imshow(equalized_image, cmap='gray')\n",
        "    plt.title('Эквализованное изображение')\n",
        "    plt.axis('off')\n",
        "\n",
        "    plt.subplot(2, 2, 4)\n",
        "    plt.plot(equalized_hist, color='black')\n",
        "    plt.title('Гистограмма эквализованного изображения')\n",
        "    plt.xlim([0, 256])\n",
        "\n",
        "    plt.tight_layout()\n",
        "    plt.show()\n",
        "\n",
        "image_path = '/content/drive/MyDrive/Colab Notebooks/Изображения/Изображения/1.JPG'  # Укажите путь к изображению\n",
        "enhance_contrast(image_path)\n"
      ],
      "metadata": {
        "id": "LUGWfzvO8IyK"
      },
      "execution_count": null,
      "outputs": []
    },
    {
      "cell_type": "markdown",
      "source": [
        "## **Задание 8:**  \n",
        "Используйте метод CLAHE для улучшения деталей в затемненных областях цветного изображения:\n",
        "\n",
        "- Преобразуйте изображение из BGR в LAB цветовое пространство.\n",
        "- Разделите изображение на каналы и примените `cv2.createCLAHE()` к каналу яркости L.\n",
        "- Объедините обработанный канал L с исходными каналами A и B.\n",
        "- Преобразуйте изображение обратно в BGR.\n",
        "- Отобразите исходное и обработанное изображения для сравнения вместе с их гистограммами."
      ],
      "metadata": {
        "id": "T4qwuHUL8Vkp"
      }
    },
    {
      "cell_type": "code",
      "source": [
        "import cv2\n",
        "import numpy as np\n",
        "import matplotlib.pyplot as plt\n",
        "from google.colab.patches import cv2_imshow  # Для Google Colab\n",
        "\n",
        "def apply_clahe(image_path):\n",
        "    # Считывание цветного изображения\n",
        "    image = cv2.imread(image_path)\n",
        "\n",
        "    if image is None:\n",
        "        print(\"Ошибка: не удалось загрузить изображение.\")\n",
        "        return\n",
        "\n",
        "    # Преобразование в LAB цветовое пространство\n",
        "    lab_image = cv2.cvtColor(image, cv2.COLOR_BGR2LAB)\n",
        "\n",
        "    # Разделение на каналы L, A, B\n",
        "    l_channel, a_channel, b_channel = cv2.split(lab_image)\n",
        "\n",
        "    # Создание CLAHE объекта\n",
        "    clahe = cv2.createCLAHE(clipLimit=3.0, tileGridSize=(8, 8))\n",
        "    # Применение CLAHE к каналу L\n",
        "    clahe_l = clahe.apply(l_channel)\n",
        "\n",
        "    # Объединение каналов обратно\n",
        "    enhanced_lab_image = cv2.merge((clahe_l, a_channel, b_channel))\n",
        "\n",
        "    # Преобразование обратно в BGR цветовое пространство\n",
        "    enhanced_image = cv2.cvtColor(enhanced_lab_image, cv2.COLOR_LAB2BGR)\n",
        "\n",
        "    # Строительство гистограммы исходного и улучшенного изображения\n",
        "    original_hist = cv2.calcHist([cv2.cvtColor(image, cv2.COLOR_BGR2GRAY)], [0], None, [256], [0, 256])\n",
        "    enhanced_hist = cv2.calcHist([cv2.cvtColor(enhanced_image, cv2.COLOR_BGR2GRAY)], [0], None, [256], [0, 256])\n",
        "\n",
        "    # Отображение изображений и их гистограмм\n",
        "    plt.figure(figsize=(12, 6))\n",
        "\n",
        "    # Исходное изображение и его гистограмма\n",
        "    plt.subplot(2, 2, 1)\n",
        "    plt.imshow(cv2.cvtColor(image, cv2.COLOR_BGR2RGB))\n",
        "    plt.title('Исходное изображение')\n",
        "    plt.axis('off')\n",
        "\n",
        "    plt.subplot(2, 2, 2)\n",
        "    plt.plot(original_hist, color='black')\n",
        "    plt.title('Гистограмма исходного изображения')\n",
        "    plt.xlim([0, 256])\n",
        "\n",
        "    # Улучшенное изображение и его гистограмма\n",
        "    plt.subplot(2, 2, 3)\n",
        "    plt.imshow(cv2.cvtColor(enhanced_image, cv2.COLOR_BGR2RGB))\n",
        "    plt.title('Улучшенное изображение (CLAHE)')\n",
        "    plt.axis('off')\n",
        "\n",
        "    plt.subplot(2, 2, 4)\n",
        "    plt.plot(enhanced_hist, color='black')\n",
        "    plt.title('Гистограмма улучшенного изображения')\n",
        "    plt.xlim([0, 256])\n",
        "\n",
        "    plt.tight_layout()\n",
        "    plt.show()\n",
        "\n",
        "image_path = '/content/drive/MyDrive/Colab Notebooks/Изображения/Изображения/1.JPG'  # Укажите путь к изображению\n",
        "apply_clahe(image_path)\n"
      ],
      "metadata": {
        "id": "CxYhzDPt8cY1"
      },
      "execution_count": null,
      "outputs": []
    },
    {
      "cell_type": "markdown",
      "source": [
        "## **Затем:**  \n",
        "Исследуйте влияние размера окна (tileGridSize) и порога по сравнению с гистограммой (clipLimit) в методе CLAHE на конечный результат. Попробуйте несколько различных значений и визуализируйте результаты.\n"
      ],
      "metadata": {
        "id": "375RUASz6YYX"
      }
    },
    {
      "cell_type": "code",
      "source": [
        "import cv2\n",
        "import numpy as np\n",
        "import matplotlib.pyplot as plt\n",
        "from google.colab.patches import cv2_imshow  # Для Google Colab\n",
        "\n",
        "def apply_clahe(image_path, tile_sizes, clip_limits):\n",
        "    # Считывание цветного изображения\n",
        "    image = cv2.imread(image_path)\n",
        "\n",
        "    if image is None:\n",
        "        print(\"Ошибка: не удалось загрузить изображение.\")\n",
        "        return\n",
        "\n",
        "    # Преобразование в LAB цветовое пространство\n",
        "    lab_image = cv2.cvtColor(image, cv2.COLOR_BGR2LAB)\n",
        "\n",
        "    # Разделение на каналы L, A, B\n",
        "    l_channel, a_channel, b_channel = cv2.split(lab_image)\n",
        "\n",
        "    # Создание подграфиков для отображения результатов\n",
        "    plt.figure(figsize=(15, 10))\n",
        "    plt.subplot(len(tile_sizes), len(clip_limits) + 1, 1)\n",
        "    plt.imshow(cv2.cvtColor(image, cv2.COLOR_BGR2RGB))\n",
        "    plt.title('Исходное изображение')\n",
        "    plt.axis('off')\n",
        "\n",
        "    for i, tile_size in enumerate(tile_sizes):\n",
        "        for j, clip_limit in enumerate(clip_limits):\n",
        "            # Создание CLAHE объекта\n",
        "            clahe = cv2.createCLAHE(clipLimit=clip_limit, tileGridSize=tile_size)\n",
        "            # Применение CLAHE к каналу L\n",
        "            clahe_l = clahe.apply(l_channel)\n",
        "\n",
        "            # Объединение каналов обратно\n",
        "            enhanced_lab_image = cv2.merge((clahe_l, a_channel, b_channel))\n",
        "            # Преобразование обратно в BGR цветовое пространство\n",
        "            enhanced_image = cv2.cvtColor(enhanced_lab_image, cv2.COLOR_LAB2BGR)\n",
        "\n",
        "            # Отображение улучшенного изображения\n",
        "            plt.subplot(len(tile_sizes), len(clip_limits) + 1, (i * len(clip_limits)) + j + 2)\n",
        "            plt.imshow(cv2.cvtColor(enhanced_image, cv2.COLOR_BGR2RGB))\n",
        "            plt.title(f'Tile: {tile_size}, Clip: {clip_limit}')\n",
        "            plt.axis('off')\n",
        "\n",
        "    plt.tight_layout()\n",
        "    plt.show()\n",
        "\n",
        "image_path = '/content/drive/MyDrive/Colab Notebooks/Изображения/Изображения/1.JPG'\n",
        "\n",
        "tile_sizes = [(8, 8), (16, 16), (32, 32)]\n",
        "clip_limits = [1.0, 3.0, 5.0]\n",
        "\n",
        "apply_clahe(image_path, tile_sizes, clip_limits)\n"
      ],
      "metadata": {
        "id": "qJGMZbtQ8sTE"
      },
      "execution_count": null,
      "outputs": []
    },
    {
      "cell_type": "markdown",
      "source": [
        "\n",
        "Краткие выводы по параметрам CLAHE\n",
        "tileGridSize:\n",
        "\n",
        "Меньшие размеры (8x8): Подчеркивают мелкие детали, могут увеличивать шум.\n",
        "Средние размеры (16x16): Баланс между детализацией и гладкостью, предпочтительны для большинства изображений.\n",
        "Большие размеры (32x32): Снижают адаптивность, приводят к более гладким, но менее контрастным результатам.\n",
        "clipLimit:\n",
        "\n",
        "Низкие значения (1.0): Сохраняют тонкие детали, но могут незначительно увеличивать контраст.\n",
        "Умеренные значения (3.0): Эффективно улучшают контрастность без перегибов.\n",
        "Высокие значения (5.0): Могут приводить к чрезмерному контрастированию и артефактам.\n",
        "Итог: Оптимальные значения зависят от конкретного изображения. Эксперименты с параметрами помогают достичь лучшего визуального эффекта и контрастности."
      ],
      "metadata": {
        "id": "2gBXN2wOxLc7"
      }
    },
    {
      "cell_type": "markdown",
      "source": [
        "# **Комплексное задание №1. Улучшение качества отсканированного документа с использованием OpenCV**\n",
        "\n"
      ],
      "metadata": {
        "id": "NWRlmXY5AG_W"
      }
    },
    {
      "cell_type": "markdown",
      "source": [
        "## **Краткое описание задания:**\n",
        "\n",
        "- Необходимо написать функцию для улучшения качества отсканированного документа с использованием методов обработки изображений, изученных ранее. Функция должна принимать на вход изображение отсканированного документа и возвращать его улучшенную версию, готовую для дальнейшего использования, например, для распознавания текста.\n",
        "\n",
        "Датасет с отсканированными изображениями можно найти в сети Интернет.\n",
        "\n",
        "---"
      ],
      "metadata": {
        "id": "53UZrXggAK4D"
      }
    },
    {
      "cell_type": "markdown",
      "source": [
        "\n",
        "\n",
        "## **Алгоритм действий:**\n",
        "\n",
        "#### **Реализуйте функцию на языке Python с использованием библиотеки OpenCV, которая выполняет следующие этапы обработки:**\n",
        "\n",
        "### **1. Чтение, запись и отображение изображений:**\n",
        "\n",
        "- Функция должна принимать на вход изображение отсканированного документа (например, в формате JPEG или PNG)\n",
        "- Проверьте наличие альфа-канала в изображении и, если он присутствует, загрузите изображение в режиме `cv2.IMREAD_UNCHANGED`, иначе используйте `cv2.IMREAD_COLOR`\n",
        "- Отобразите исходное изображение для визуальной проверки\n",
        "\n",
        "### **2. Работа с цветовыми палитрами:**\n",
        "\n",
        "- Преобразуйте изображение в оттенки серого, используя `cv2.cvtColor()` с параметром `cv2.COLOR_BGR2GRAY`.\n",
        "- Отобразите полученное изображение в оттенках серого.\n",
        "\n",
        "### **3. Слияние и усиление:**\n",
        "\n",
        "- Примените медианный фильтр (`cv2.medianBlur()`) для удаления шумов с изображения. Выберите подходящий размер ядра (например, 3 или 5). Отобразите результат.\n",
        "- Используйте фильтр сглаживания с применением прямой свертки (`cv2.filter2D()`) с заданным ядром для повышения четкости. Например, можно использовать фильтр \"Unsharp Masking\":\n",
        "  - Создайте ядро для повышения резкости. Пример ядра:\n",
        "    ```python\n",
        "    kernel = np.array([[-1, -1, -1],\n",
        "                       [-1,  9, -1],\n",
        "                       [-1, -1, -1]])\n",
        "    ```\n",
        "  - Примените фильтр к изображению и отобразите результат.\n",
        "\n",
        "### **4. Работа с гистограммами:**\n",
        "\n",
        "- Примените метод CLAHE (Contrast Limited Adaptive Histogram Equalization) для улучшения контрастности изображения:\n",
        "  - Создайте объект CLAHE с параметрами `clipLimit=2.0` и `tileGridSize=(8,8)`.\n",
        "  - Примените CLAHE к изображению.\n",
        "  - отобразите результат.\n",
        "- Постройте гистограммы яркости исходного и обработанного изображений для сравнения.\n",
        "\n",
        "---"
      ],
      "metadata": {
        "id": "43qjeX9X_46I"
      }
    },
    {
      "cell_type": "markdown",
      "source": [
        "### **Требования к функции:**\n",
        "\n",
        "- Функция должна называться: `improve_scan(image)`, где `image` — входное изображение в виде массива NumPy.\n",
        "- Функция должна возвращать улучшенное изображение в виде массива NumPy.\n",
        "- В ходе работы функция должна **опционально** отображать промежуточные результаты для наглядности (в условиях Colab использовать соответствующие методы вывода изображений). Для этого следует ввести отдельный параметр (например: `visible=True`) и реализовать с ним соответствующую логику.\n",
        "\n",
        "---\n",
        "\n",
        "### **Дополнительные требования:**\n",
        "\n",
        "- **Обработка ошибок:**\n",
        "  - Убедитесь, что функция корректно обрабатывает ситуации, когда на вход подается некорректное изображение.\n",
        "  - Добавьте проверки на тип входных данных.\n",
        "\n",
        "- **Документация и комментарии:**\n",
        "  - Функция должна быть снабжена понятной документацией: опишите, какие преобраования выполняются и для чего.\n",
        "  - Добавьте комментарии к основным участкам кода для пояснения выполняемых действий.\n",
        "\n"
      ],
      "metadata": {
        "id": "HgYGFAaCDfs0"
      }
    },
    {
      "cell_type": "markdown",
      "source": [
        "---\n",
        "\n",
        "### **Подсказки и рекомендации:**\n",
        "\n",
        "\n",
        "- **Медианный фильтр:**\n",
        "  Функция `cv2.medianBlur(src, ksize)` принимает на вход изображение и размер ядра (должен быть нечетным числом).\n",
        "\n",
        "- **CLAHE:**\n",
        "  - Создайте объект CLAHE с помощью `cv2.createCLAHE(clipLimit, tileGridSize)`.\n",
        "  - Примените метод `apply()` к изображению в оттенках серого.\n",
        "\n",
        "- **Отображение изображений в Google Colab:**\n",
        "  - Используйте `matplotlib.pyplot` для отображения изображений.\n",
        "  - Помните, что `cv2.imread()` загружает изображения в формате BGR, поэтому для корректного отображения в Matplotlib Преобразуйте изображение в RGB с помощью `cv2.cvtColor(image, cv2.COLOR_BGR2RGB)`.\n",
        "\n",
        "---"
      ],
      "metadata": {
        "id": "zCoI1InCDmt8"
      }
    },
    {
      "cell_type": "code",
      "source": [
        "def improve_scan(image, visible=True):\n",
        "    \"\"\"\n",
        "    Улучшает качество отсканированного документа.\n",
        "\n",
        "    Параметры:\n",
        "    image (numpy.ndarray): Входное изображение в виде массива NumPy.\n",
        "    visible (bool): Параметр для отображения промежуточных результатов.\n",
        "\n",
        "    Возвращает:\n",
        "    numpy.ndarray: Улучшенное изображение.\n",
        "    \"\"\"\n",
        "    # Проверка типа входных данных\n",
        "    if not isinstance(image, np.ndarray):\n",
        "        raise ValueError(\"Входные данные должны быть изображением в виде массива NumPy.\")\n",
        "\n",
        "    if image.size == 0:\n",
        "        raise ValueError(\"Изображение пустое. Проверьте путь к файлу.\")\n",
        "\n",
        "    # 1. Отображение исходного изображения\n",
        "    if visible:\n",
        "        plt.imshow(cv2.cvtColor(image, cv2.COLOR_BGR2RGB))\n",
        "        plt.title(\"Исходное изображение\")\n",
        "        plt.axis(\"off\")\n",
        "        plt.show()\n",
        "\n",
        "    # 2. Преобразование в оттенки серого\n",
        "    gray_image = cv2.cvtColor(image, cv2.COLOR_BGR2GRAY)\n",
        "    if visible:\n",
        "        plt.imshow(gray_image, cmap='gray')\n",
        "        plt.title(\"Изображение в оттенках серого\")\n",
        "        plt.axis(\"off\")\n",
        "        plt.show()\n",
        "\n",
        "    # 3. Удаление шумов с помощью медианного фильтра\n",
        "    median_blur_image = cv2.medianBlur(gray_image, 5)\n",
        "    if visible:\n",
        "        plt.imshow(median_blur_image, cmap='gray')\n",
        "        plt.title(\"Изображение после медианного фильтра\")\n",
        "        plt.axis(\"off\")\n",
        "        plt.show()\n",
        "\n",
        "    # Применение фильтра \"Unsharp Masking\" для повышения резкости\n",
        "    kernel = np.array([[-1, -1, -1],\n",
        "                       [-1,  9, -1],\n",
        "                       [-1, -1, -1]])\n",
        "    sharpened_image = cv2.filter2D(median_blur_image, -1, kernel)\n",
        "    if visible:\n",
        "        plt.imshow(sharpened_image, cmap='gray')\n",
        "        plt.title(\"Изображение после повышения резкости\")\n",
        "        plt.axis(\"off\")\n",
        "        plt.show()\n",
        "\n",
        "    # 4. Применение CLAHE\n",
        "    clahe = cv2.createCLAHE(clipLimit=2.0, tileGridSize=(8, 8))\n",
        "    clahe_image = clahe.apply(sharpened_image)\n",
        "    if visible:\n",
        "        plt.imshow(clahe_image, cmap='gray')\n",
        "        plt.title(\"Изображение после CLAHE\")\n",
        "        plt.axis(\"off\")\n",
        "        plt.show()\n",
        "\n",
        "    return clahe_image\n",
        "\n",
        "input_image_path = '/content/drive/MyDrive/Colab Notebooks/Изображения/Изображения/image3.png'\n",
        "image = cv2.imread(input_image_path)\n",
        "\n",
        "if image is None:\n",
        "    raise ValueError(f\"Не удалось загрузить изображение по пути: {input_image_path}\")\n",
        "\n",
        "improved_image = improve_scan(image)"
      ],
      "metadata": {
        "id": "I7ZHrvcfD_MX"
      },
      "execution_count": null,
      "outputs": []
    },
    {
      "cell_type": "markdown",
      "source": [
        "## **Дополнительное задание:**\n",
        "\n",
        "- Поэкспериментируйте с параметрами медианного фильтра, ядром для фильтра повышения резкости и параметрами CLAHE для достижения наилучшего результата.\n",
        "- Добавьте возможность передачи этих параметров в функцию `improve_scan` для более гибкой настройки обработки. **В качестве параметров по умолчанию установите те, которые показали себя лучше всего по результатам экспериментов**\n",
        "\n",
        "**Пример с параметрами:**\n",
        "\n",
        "```python\n",
        "def improve_scan(image,\n",
        "                 median_kernel_size=3,\n",
        "                 sharp_kernel= np.array([[-1, -1, -1],\n",
        "                                         [-1,  9, -1],\n",
        "                                         [-1, -1, -1]]),\n",
        "                 clahe_clip=2.0,\n",
        "                 clahe_grid=(8,8),\n",
        "                 visible=True):\n",
        "    # Реализация с учетом переданных параметров\n",
        "    ...\n",
        "```\n"
      ],
      "metadata": {
        "id": "kIWYf-UaCHwX"
      }
    },
    {
      "cell_type": "code",
      "source": [
        "def improve_scan(image,\n",
        "                 median_kernel_size=3,\n",
        "                 sharp_kernel=np.array([[-1, -1, -1],\n",
        "                                        [-1,  9, -1],\n",
        "                                        [-1, -1, -1]]),\n",
        "                 clahe_clip=2.0,\n",
        "                 clahe_grid=(8, 8),\n",
        "                 visible=True):\n",
        "    \"\"\"\n",
        "    Улучшает качество отсканированного документа.\n",
        "\n",
        "    Параметры:\n",
        "    image (numpy.ndarray): Входное изображение в виде массива NumPy.\n",
        "    median_kernel_size (int): Размер ядра для медианного фильтра (нечетное число).\n",
        "    sharp_kernel (numpy.ndarray): Ядро для фильтра повышения резкости.\n",
        "    clahe_clip (float): Порог по сравнению с гистограммой для CLAHE.\n",
        "    clahe_grid (tuple): Размер сетки для CLAHE.\n",
        "    visible (bool): Параметр для отображения промежуточных результатов.\n",
        "\n",
        "    Возвращает:\n",
        "    numpy.ndarray: Улучшенное изображение.\n",
        "    \"\"\"\n",
        "    # Проверка типа входных данных\n",
        "    if not isinstance(image, np.ndarray):\n",
        "        raise ValueError(\"Входные данные должны быть изображением в виде массива NumPy.\")\n",
        "\n",
        "    if image.size == 0:\n",
        "        raise ValueError(\"Изображение пустое. Проверьте путь к файлу.\")\n",
        "\n",
        "    # 1. Отображение исходного изображения\n",
        "    if visible:\n",
        "        plt.imshow(cv2.cvtColor(image, cv2.COLOR_BGR2RGB))\n",
        "        plt.title(\"Исходное изображение\")\n",
        "        plt.axis(\"off\")\n",
        "        plt.show()\n",
        "\n",
        "    # 2. Преобразование в оттенки серого\n",
        "    gray_image = cv2.cvtColor(image, cv2.COLOR_BGR2GRAY)\n",
        "    if visible:\n",
        "        plt.imshow(gray_image, cmap='gray')\n",
        "        plt.title(\"Изображение в оттенках серого\")\n",
        "        plt.axis(\"off\")\n",
        "        plt.show()\n",
        "\n",
        "    # 3. Удаление шумов с помощью медианного фильтра\n",
        "    median_blur_image = cv2.medianBlur(gray_image, median_kernel_size)\n",
        "    if visible:\n",
        "        plt.imshow(median_blur_image, cmap='gray')\n",
        "        plt.title(\"Изображение после медианного фильтра\")\n",
        "        plt.axis(\"off\")\n",
        "        plt.show()\n",
        "\n",
        "    # Применение фильтра \"Unsharp Masking\" для повышения резкости\n",
        "    sharpened_image = cv2.filter2D(median_blur_image, -1, sharp_kernel)\n",
        "    if visible:\n",
        "        plt.imshow(sharpened_image, cmap='gray')\n",
        "        plt.title(\"Изображение после повышения резкости\")\n",
        "        plt.axis(\"off\")\n",
        "        plt.show()\n",
        "\n",
        "    # 4. Применение CLAHE\n",
        "    clahe = cv2.createCLAHE(clipLimit=clahe_clip, tileGridSize=clahe_grid)\n",
        "    clahe_image = clahe.apply(sharpened_image)\n",
        "    if visible:\n",
        "        plt.imshow(clahe_image, cmap='gray')\n",
        "        plt.title(\"Изображение после CLAHE\")\n",
        "        plt.axis(\"off\")\n",
        "        plt.show()\n",
        "\n",
        "    # Возвращаем улучшенное изображение\n",
        "    return clahe_image\n",
        "\n",
        "# Пример использования:\n",
        "input_image_path = '/content/drive/MyDrive/Colab Notebooks/Изображения/Изображения/image3.png'\n",
        "image = cv2.imread(input_image_path)\n",
        "\n",
        "# Проверка, что изображение было успешно загружено\n",
        "if image is None:\n",
        "    raise ValueError(f\"Не удалось загрузить изображение по пути: {input_image_path}\")\n",
        "\n",
        "# Вызов функции для улучшения с параметрами\n",
        "improved_image = improve_scan(image,\n",
        "                               median_kernel_size=5,\n",
        "                               sharp_kernel=np.array([[-1, -1, -1],\n",
        "                                                      [-1,  9, -1],\n",
        "                                                      [-1, -1, -1]]),\n",
        "                               clahe_clip=2.0,\n",
        "                               clahe_grid=(8, 8))\n"
      ],
      "metadata": {
        "id": "FCeiyX6dEC9D"
      },
      "execution_count": null,
      "outputs": []
    }
  ]
}