{
  "cells": [
    {
      "cell_type": "markdown",
      "metadata": {
        "id": "view-in-github",
        "colab_type": "text"
      },
      "source": [
        "<a href=\"https://colab.research.google.com/github/doommodery/-image_processing_homework/blob/main/%D0%9A%D0%BE%D0%BF%D0%B8%D1%8F_%D0%B1%D0%BB%D0%BE%D0%BA%D0%BD%D0%BE%D1%82%D0%B0_%22%D0%9F%D1%80%D0%B0%D0%BA%D1%82%D0%B8%D1%87%D0%B5%D1%81%D0%BA%D0%B0%D1%8F_%D1%80%D0%B0%D0%B1%D0%BE%D1%82%D0%B0_%E2%84%961_%D0%A4%D0%B8%D0%BB%D1%8C%D1%82%D1%80%D0%B0%D1%86%D0%B8%D1%8F_%D0%B8%D0%B7%D0%BE%D0%B1%D1%80%D0%B0%D0%B6%D0%B5%D0%BD%D0%B8%D0%B9_%D1%81_%D0%B8%D1%81%D0%BF%D0%BE%D0%BB%D1%8C%D0%B7%D0%BE%D0%B2%D0%B0%D0%BD%D0%B8%D0%B5%D0%BC_%D1%81%D0%B2%D0%B5%D1%80%D1%82%D0%BA%D0%B8_%D0%B2_Python_%D0%92%D0%BB%D0%B0%D1%81%D0%BA%D0%B8%D0%BD%D0%94%D0%B0%D0%BD%D0%B8%D0%BB_ipynb%22.ipynb\" target=\"_parent\"><img src=\"https://colab.research.google.com/assets/colab-badge.svg\" alt=\"Open In Colab\"/></a>"
      ]
    },
    {
      "cell_type": "markdown",
      "metadata": {
        "id": "XbMa86C252dI"
      },
      "source": [
        "#Фильтрация изображений с использованием свертки в Python"
      ]
    },
    {
      "cell_type": "code",
      "execution_count": null,
      "metadata": {
        "id": "ymoDoEoS5twI",
        "colab": {
          "base_uri": "https://localhost:8080/"
        },
        "outputId": "a181c3a5-3ac1-40df-bab2-f016838b0b19"
      },
      "outputs": [
        {
          "output_type": "stream",
          "name": "stdout",
          "text": [
            "Drive already mounted at /content/drive; to attempt to forcibly remount, call drive.mount(\"/content/drive\", force_remount=True).\n"
          ]
        }
      ],
      "source": [
        "import numpy as np\n",
        "import cv2\n",
        "from google.colab.patches import cv2_imshow\n",
        "from google.colab import drive\n",
        "drive.mount('/content/drive')"
      ]
    },
    {
      "cell_type": "code",
      "execution_count": null,
      "metadata": {
        "id": "ydcDFtlV65GC"
      },
      "outputs": [],
      "source": [
        "img1 = cv2.imread('/content/drive/MyDrive/Colab Notebooks/Изображения/Изображения/1.JPG')\n",
        "img2 = cv2.imread('/content/drive/MyDrive/Colab Notebooks/Изображения/Изображения/2.jpg')\n",
        "img3 = cv2.imread('/content/drive/MyDrive/Colab Notebooks/Изображения/Изображения/3.jpg')\n",
        "img4 = cv2.imread('/content/drive/MyDrive/Colab Notebooks/Изображения/Изображения/4.jpg')\n",
        "img5 = cv2.imread('/content/drive/MyDrive/Colab Notebooks/Изображения/Изображения/5.JPG')"
      ]
    },
    {
      "cell_type": "code",
      "execution_count": null,
      "metadata": {
        "collapsed": true,
        "id": "hAYW1URp_Q7D"
      },
      "outputs": [],
      "source": [
        "cv2_imshow(img1)"
      ]
    },
    {
      "cell_type": "code",
      "execution_count": null,
      "metadata": {
        "id": "9GePMny3AINa"
      },
      "outputs": [],
      "source": [
        "cv2_imshow(img2)"
      ]
    },
    {
      "cell_type": "code",
      "execution_count": null,
      "metadata": {
        "id": "YgJDmRm1AIhK"
      },
      "outputs": [],
      "source": [
        "cv2_imshow(img3)"
      ]
    },
    {
      "cell_type": "code",
      "execution_count": null,
      "metadata": {
        "id": "N7106Cv_AIxj"
      },
      "outputs": [],
      "source": [
        "cv2_imshow(img4)"
      ]
    },
    {
      "cell_type": "code",
      "execution_count": null,
      "metadata": {
        "id": "yMKAi4SGANqm"
      },
      "outputs": [],
      "source": [
        "cv2_imshow(img5)"
      ]
    },
    {
      "cell_type": "markdown",
      "metadata": {
        "id": "ICnqoYiQ6i9u"
      },
      "source": [
        "##1. Применить ко всем растрам из папки «Изображения» фильтры высоких и низких частот. Сохранить обработанные изображения"
      ]
    },
    {
      "cell_type": "code",
      "execution_count": null,
      "metadata": {
        "id": "Rn3PzYvh6lSs"
      },
      "outputs": [],
      "source": [
        "# Определение ядра низкочастотного фильтра\n",
        "lf_kernel = np.array([[1, 1, 1, 1, 1],\n",
        "                      [1, 1, 1, 1, 1],\n",
        "                      [1, 1, 1, 1, 1],\n",
        "                      [1, 1, 1, 1, 1],\n",
        "                      [1, 1, 1, 1, 1]])\n",
        "\n",
        "# Нормализация ядра низкочастотного фильтра\n",
        "lf_kernel = lf_kernel / (np.sum(lf_kernel) if np.sum(lf_kernel) != 0 else 1)\n",
        "\n",
        "# Определение ядра высокочастотного фильтра\n",
        "hf_kernel = np.array([[0.0, -1.0, 0.0],\n",
        "                      [-1.0, 4.0, -1.0],\n",
        "                      [0.0, -1.0, 0.0]])\n",
        "\n",
        "# Нормализация ядра высокочастотного фильтра\n",
        "hf_kernel = hf_kernel / (np.sum(hf_kernel) if np.sum(hf_kernel) != 0 else 1)\n",
        "\n",
        "# Применение низкочастотного фильтра к изображению\n",
        "lf_img1 = cv2.filter2D(img1, -1, lf_kernel)\n",
        "\n",
        "# Применение высокочастотного фильтра к изображению\n",
        "hf_img1 = cv2.filter2D(img1, -1, hf_kernel)\n",
        "\n",
        "# Объединение результатов фильтров по горизонтали\n",
        "result1 = np.concatenate((lf_img1, hf_img1), axis=1)\n",
        "\n",
        "# Отображение объединенного изображения\n",
        "cv2_imshow(result1)"
      ]
    },
    {
      "cell_type": "code",
      "execution_count": null,
      "metadata": {
        "id": "00zJtUARBul_"
      },
      "outputs": [],
      "source": [
        "# Применение низкочастотного фильтра к изображению\n",
        "lf_img2 = cv2.filter2D(img2, -1, lf_kernel)\n",
        "\n",
        "# Применение высокочастотного фильтра к изображению\n",
        "hf_img2 = cv2.filter2D(img2, -1, hf_kernel)\n",
        "\n",
        "# Объединение результатов фильтров по горизонтали\n",
        "result2 = np.concatenate((lf_img2, hf_img2), axis=1)\n",
        "\n",
        "# Отображение объединенного изображения\n",
        "cv2_imshow(result2)"
      ]
    },
    {
      "cell_type": "code",
      "execution_count": null,
      "metadata": {
        "id": "ZYBu5evmCjd7"
      },
      "outputs": [],
      "source": [
        "# Применение низкочастотного фильтра к изображению\n",
        "lf_img3 = cv2.filter2D(img3, -1, lf_kernel)\n",
        "\n",
        "# Применение высокочастотного фильтра к изображению\n",
        "hf_img3 = cv2.filter2D(img3, -1, hf_kernel)\n",
        "\n",
        "# Объединение результатов фильтров по горизонтали\n",
        "result3 = np.concatenate((lf_img3, hf_img3), axis=1)\n",
        "\n",
        "# Отображение объединенного изображения\n",
        "cv2_imshow(result3)"
      ]
    },
    {
      "cell_type": "code",
      "source": [
        "# Применение низкочастотного фильтра к изображению\n",
        "lf_img4 =  cv2.filter2D(img4,-1,lf_kernel)\n",
        "\n",
        "# Применение высокочастотного фильтра к изображению\n",
        "hf_img4 =  cv2.filter2D(img4,-1,hf_kernel)\n",
        "\n",
        "result4 = np.concatenate((lf_img4, hf_img4), axis=1)\n",
        "\n",
        "cv2_imshow(result4)"
      ],
      "metadata": {
        "id": "h6aDJwqBDOif"
      },
      "execution_count": null,
      "outputs": []
    },
    {
      "cell_type": "code",
      "source": [
        "# Применение низкочастотного фильтра к изображению\n",
        "lf_img5 =  cv2.filter2D(img5,-1,lf_kernel)\n",
        "\n",
        "# Применение высокочастотного фильтра к изображению\n",
        "hf_img5 =  cv2.filter2D(img5,-1,hf_kernel)\n",
        "\n",
        "# Объединение результатов фильтров по горизонтали\n",
        "result5 = np.concatenate((lf_img5, hf_img5), axis=1)\n",
        "\n",
        "# Отображение объединенного изображения\n",
        "cv2_imshow(result5)"
      ],
      "metadata": {
        "id": "_iEbMkzxDrnm"
      },
      "execution_count": null,
      "outputs": []
    },
    {
      "cell_type": "code",
      "source": [
        "cv2.imwrite('lf_img1.jpg', lf_img1)\n",
        "cv2.imwrite('hf_img1.jpg', hf_img1)\n",
        "cv2.imwrite('lf_img2.jpg', lf_img2)\n",
        "cv2.imwrite('hf_img2.jpg', hf_img2)\n",
        "cv2.imwrite('lf_img3.jpg', lf_img3)\n",
        "cv2.imwrite('hf_img3.jpg', hf_img3)\n",
        "cv2.imwrite('lf_img4.jpg', lf_img4)\n",
        "cv2.imwrite('hf_img4.jpg', hf_img4)\n",
        "cv2.imwrite('lf_img5.jpg', lf_img5)\n",
        "cv2.imwrite('hf_img5.jpg', hf_img5)"
      ],
      "metadata": {
        "colab": {
          "base_uri": "https://localhost:8080/"
        },
        "id": "he8cRup0EjUL",
        "outputId": "c7061bf5-3a22-4a99-a236-2043285e4cd0"
      },
      "execution_count": null,
      "outputs": [
        {
          "output_type": "execute_result",
          "data": {
            "text/plain": [
              "True"
            ]
          },
          "metadata": {},
          "execution_count": 34
        }
      ]
    },
    {
      "cell_type": "markdown",
      "metadata": {
        "id": "ktG1Qc1C6vj3"
      },
      "source": [
        "##2. Сравнить полученные изображения с исходными и составить описание (до-после). Указать, какие классы объектов стали наиболее ярко выражены. Сделать общий вывод о том, для каких целей лучше всего использовать фильтры высоких и низких частот"
      ]
    },
    {
      "cell_type": "markdown",
      "source": [
        "Как видно из проделанного, изображения слева, обработанные фильтром низких частот, стали более плавными и размытыми. Яркие и темные цвета стали менее выраженными.\n",
        "\n",
        "Изображения справа, обработанные фильтром высоких частот, потеряли цветность (хотя существуют другие фильтры, которые позволяют добиться аналогичного результата без потери цвета, используемый вариант кажется более наглядным). Тем не менее, основные детали изображения стали более выраженными. Четко видны границы различных объектов, таких как отделение воды от суши и разграничение домов и дорог от растительности.\n",
        "\n",
        "Из проделанного можно сделать вывод, что фильтры низких частот хорошо подходят для уменьшения шума на изображении и, возможно, для сжатия, так как изображение становится довольно размытым, что можно использовать для дальнейшего понижения разрешения. Фильтры высоких частот можно использовать для четкого выделения границ различных объектов на изображении (при использовании другого ядра для фильтра можно сохранить цветность)."
      ],
      "metadata": {
        "id": "3NDYSb_WEGa8"
      }
    },
    {
      "cell_type": "markdown",
      "metadata": {
        "id": "gxNK2i5M7r21"
      },
      "source": [
        "##3. Определить свои параметры ядра (задать матрицу со своими параметрами) и указать, для каких целей его можно использовать. Привести примеры. Изображения, для обработки по Вашим параметрам можно выбирать любые, по желанию."
      ]
    },
    {
      "cell_type": "code",
      "execution_count": null,
      "metadata": {
        "id": "AwtSDD6W7xto"
      },
      "outputs": [],
      "source": [
        "# Загрузка изображения\n",
        "my_img = cv2.imread('/content/drive/MyDrive/Colab Notebooks/Изображения/Изображения/my.jpg')\n",
        "\n",
        "# Определение ядра фильтра\n",
        "kernel = np.array([[-1, -1, -1],\n",
        "                   [-1, 9, -1],\n",
        "                   [-1, -1, -1]])\n",
        "\n",
        "# Нормализация ядра фильтра\n",
        "kernel = kernel / (np.sum(kernel) if np.sum(kernel) != 0 else 1)\n",
        "\n",
        "# Применение фильтра к изображению\n",
        "my_filtered = cv2.filter2D(my_img, -1, kernel)\n",
        "\n",
        "# Объединение оригинального и отфильтрованного изображений по горизонтали\n",
        "result = np.concatenate((my_img, my_filtered), axis=1)\n",
        "\n",
        "# Сохранение отфильтрованного изображения\n",
        "cv2.imwrite('my_filtered.jpg', my_filtered)\n",
        "\n",
        "# Отображение объединенного изображения\n",
        "cv2_imshow(result)"
      ]
    },
    {
      "cell_type": "markdown",
      "source": [
        "Данные параметры ядра могут быть использованны для улучшения четкости объектов на изображении. Из примера видно, что детали и границы объектов сталии более выраженными. Так в левом верхнем углу исходного изображения было не совсем понятно, что находится на заднем плане. После же обработки видно, что это (вроде как) напольная лампа. Также четче стали и объекты непосредственно в кадре. Сильнее выделились границы ноутбука, ручки, которая лежит на столе. Тоже самое и с самим человеком на фото. Узор на рубашке стал более отчетливым, волосы на голове и растительность на лице также стали более отчетливыми."
      ],
      "metadata": {
        "id": "KN1UNCEBM6iB"
      }
    }
  ],
  "metadata": {
    "colab": {
      "provenance": [],
      "include_colab_link": true
    },
    "kernelspec": {
      "display_name": "Python 3",
      "name": "python3"
    },
    "language_info": {
      "name": "python"
    }
  },
  "nbformat": 4,
  "nbformat_minor": 0
}